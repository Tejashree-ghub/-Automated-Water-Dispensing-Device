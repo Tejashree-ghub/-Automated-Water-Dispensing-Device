{
  "nbformat": 4,
  "nbformat_minor": 0,
  "metadata": {
    "colab": {
      "provenance": [],
      "authorship_tag": "ABX9TyMmrndAnpv66qTDgvuz1EX7",
      "include_colab_link": true
    },
    "kernelspec": {
      "name": "python3",
      "display_name": "Python 3"
    },
    "language_info": {
      "name": "python"
    }
  },
  "cells": [
    {
      "cell_type": "markdown",
      "metadata": {
        "id": "view-in-github",
        "colab_type": "text"
      },
      "source": [
        "<a href=\"https://colab.research.google.com/github/Tejashree-ghub/-Automated-Water-Dispensing-Device/blob/main/Caroine_code.ipynb\" target=\"_parent\"><img src=\"https://colab.research.google.com/assets/colab-badge.svg\" alt=\"Open In Colab\"/></a>"
      ]
    },
    {
      "cell_type": "code",
      "execution_count": 1,
      "metadata": {
        "colab": {
          "base_uri": "https://localhost:8080/"
        },
        "id": "OydZfPjXVHdO",
        "outputId": "aa8627fe-c380-4506-c32a-e13fc3c4b74c"
      },
      "outputs": [
        {
          "output_type": "stream",
          "name": "stdout",
          "text": [
            "Simulated Water Level: 45%\n",
            "Simulated Staff is filling the tank.\n",
            "Simulated Staff did not fill the tank.\n",
            "Simulated Customer dispensed 4 units.\n",
            "Simulated Water Level: 41%\n",
            "Simulated Staff is filling the tank.\n",
            "Simulated Staff did not fill the tank.\n",
            "Simulated Customer dispensed 5 units.\n",
            "Simulated Water Level: 40%\n",
            "Simulated Staff is filling the tank.\n",
            "Simulated Staff did not fill the tank.\n",
            "Simulated Customer dispensed 3 units.\n",
            "Simulated Water Level: 36%\n",
            "Simulated Customer dispensed 4 units.\n",
            "Simulated Water Level: 31%\n",
            "Simulated Customer dispensed 5 units.\n",
            "Simulated Staff has not filled the tank for 5 iterations. Turning off the machine.\n"
          ]
        }
      ],
      "source": [
        "import time\n",
        "import random\n",
        "\n",
        "# Simulation values\n",
        "simulated_water_level = 50  # Initial water level at 50%\n",
        "simulated_button_press = False  # Simulating no button press initially\n",
        "staff_filled_tank = False  # Simulating staff action to fill the tank\n",
        "iterations_without_fill = 0\n",
        "max_iterations_without_fill = 5  # Adjust as needed\n",
        "\n",
        "def simulate_water_level():\n",
        "    global simulated_water_level\n",
        "    simulated_water_level -= random.randint(1, 5)  # Simulate a decrease in water level over time\n",
        "    return max(simulated_water_level, 0)  # Ensure water level doesn't go below 0%\n",
        "\n",
        "def simulate_button_press():\n",
        "    global simulated_button_press\n",
        "    simulated_button_press = random.choice([True, False])  # Simulate random button presses\n",
        "    return simulated_button_press\n",
        "\n",
        "def simulate_staff_fill_tank():\n",
        "    global simulated_water_level, staff_filled_tank\n",
        "    if simulated_water_level < 40:\n",
        "        staff_filled_tank = True\n",
        "        print(\"Simulated Staff filled the tank.\")\n",
        "    else:\n",
        "        staff_filled_tank = False\n",
        "        print(\"Simulated Staff did not fill the tank.\")\n",
        "\n",
        "while True:\n",
        "    # Simulate water level monitoring\n",
        "    water_level = simulate_water_level()\n",
        "    print(\"Simulated Water Level: {}%\".format(water_level))\n",
        "\n",
        "    # Check water level conditions\n",
        "    if water_level < 20 and not staff_filled_tank:\n",
        "        print(\"Simulated Water level below 20% and staff did not fill the tank. Machine is NOT AVAILABLE.\")\n",
        "    elif water_level < 20 and staff_filled_tank:\n",
        "        print(\"Simulated Water level below 20%! Simulating staff filling the tank.\")\n",
        "        simulate_staff_fill_tank()\n",
        "\n",
        "    # Check if the staff presses the simulated fill button\n",
        "    if simulate_button_press():\n",
        "        print(\"Simulated Staff is filling the tank.\")\n",
        "        simulate_staff_fill_tank()\n",
        "\n",
        "    # Simulate dispensing by the customer\n",
        "    dispense_quantity = random.randint(1, 5)\n",
        "    print(\"Simulated Customer dispensed {} units.\".format(dispense_quantity))\n",
        "    time.sleep(2)  # Simulate dispensing time\n",
        "\n",
        "    # Check if the staff doesn't fill the tank after dispensing\n",
        "    if not staff_filled_tank and water_level < 20:\n",
        "        print(\"Simulated Staff did not fill the tank after dispensing. Machine is NOT AVAILABLE.\")\n",
        "\n",
        "    # Check if the water level is too low to continue\n",
        "    if water_level < 10:\n",
        "        print(\"Simulated Water level is too low. Turning off the machine.\")\n",
        "        break\n",
        "\n",
        "    # Increase water level if the staff filled the tank\n",
        "    if staff_filled_tank:\n",
        "        simulated_water_level += random.randint(5, 15)  # Simulate an increase in water level\n",
        "\n",
        "    # Check if staff doesn't fill the tank for a certain number of iterations\n",
        "    if not staff_filled_tank:\n",
        "        iterations_without_fill += 1\n",
        "        if iterations_without_fill >= max_iterations_without_fill:\n",
        "            print(\"Simulated Staff has not filled the tank for {} iterations. Turning off the machine.\".format(\n",
        "                max_iterations_without_fill))\n",
        "            break\n",
        "    else:\n",
        "        iterations_without_fill = 0  # Reset the counter when staff fills the tank\n",
        "\n",
        "    time.sleep(1)  # Adjust the delay based on your testing needs"
      ]
    }
  ]
}