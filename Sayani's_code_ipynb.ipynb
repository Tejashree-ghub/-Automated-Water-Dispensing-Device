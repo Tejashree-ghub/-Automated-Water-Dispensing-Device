{
  "nbformat": 4,
  "nbformat_minor": 0,
  "metadata": {
    "colab": {
      "provenance": [],
      "authorship_tag": "ABX9TyPkN54a2tbqms7pql+w/1JP",
      "include_colab_link": true
    },
    "kernelspec": {
      "name": "python3",
      "display_name": "Python 3"
    },
    "language_info": {
      "name": "python"
    }
  },
  "cells": [
    {
      "cell_type": "markdown",
      "metadata": {
        "id": "view-in-github",
        "colab_type": "text"
      },
      "source": [
        "<a href=\"https://colab.research.google.com/github/Tejashree-ghub/-Automated-Water-Dispensing-Device/blob/main/Sayani's_code_ipynb.ipynb\" target=\"_parent\"><img src=\"https://colab.research.google.com/assets/colab-badge.svg\" alt=\"Open In Colab\"/></a>"
      ]
    },
    {
      "cell_type": "code",
      "execution_count": 1,
      "metadata": {
        "colab": {
          "base_uri": "https://localhost:8080/"
        },
        "id": "kXuQVhSP1UZY",
        "outputId": "4bb1d468-f991-4047-fc90-5198379598d9"
      },
      "outputs": [
        {
          "output_type": "stream",
          "name": "stdout",
          "text": [
            "Valve opened.\n",
            "Valve closed.\n",
            "3 units dispensed.\n",
            "Sending data to microprocessor. Bill: $4.5\n"
          ]
        }
      ],
      "source": [
        "import time\n",
        "\n",
        "class BeverageMachine:\n",
        "    def __init__(self):\n",
        "        self.valve_open = False\n",
        "        self.quantity = 0\n",
        "        self.price_per_unit = 1.5  # Adjust the price as needed\n",
        "\n",
        "    def open_valve(self):\n",
        "        print(\"Valve opened.\")\n",
        "        self.valve_open = True\n",
        "\n",
        "    def close_valve(self):\n",
        "        print(\"Valve closed.\")\n",
        "        self.valve_open = False\n",
        "\n",
        "    def dispense(self, quantity):\n",
        "        self.quantity = quantity\n",
        "        self.open_valve()\n",
        "        time.sleep(2)  # Simulate dispensing time\n",
        "        self.close_valve()\n",
        "        print(f\"{quantity} units dispensed.\")\n",
        "\n",
        "    def calculate_bill(self):\n",
        "        return self.quantity * self.price_per_unit\n",
        "\n",
        "    def send_to_microprocessor(self, bill):\n",
        "        print(f\"Sending data to microprocessor. Bill: ${bill}\")\n",
        "\n",
        "# Example of using the BeverageMachine\n",
        "if __name__ == \"__main__\":\n",
        "    beverage_machine = BeverageMachine()\n",
        "\n",
        "    # Simulate a customer ordering a drink\n",
        "    beverage_machine.dispense(3)\n",
        "\n",
        "    # Calculate the bill\n",
        "    bill = beverage_machine.calculate_bill()\n",
        "\n",
        "    # Send the data to the microprocessor\n",
        "    beverage_machine.send_to_microprocessor(bill)"
      ]
    }
  ]
}