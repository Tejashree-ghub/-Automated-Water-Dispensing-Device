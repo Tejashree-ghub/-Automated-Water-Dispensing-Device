{
  "nbformat": 4,
  "nbformat_minor": 0,
  "metadata": {
    "colab": {
      "provenance": [],
      "authorship_tag": "ABX9TyOQMBZmkbfezoitjaJa0NLh",
      "include_colab_link": true
    },
    "kernelspec": {
      "name": "python3",
      "display_name": "Python 3"
    },
    "language_info": {
      "name": "python"
    }
  },
  "cells": [
    {
      "cell_type": "markdown",
      "metadata": {
        "id": "view-in-github",
        "colab_type": "text"
      },
      "source": [
        "<a href=\"https://colab.research.google.com/github/Tejashree-ghub/-Automated-Water-Dispensing-Device/blob/main/Tejashree_Code_ipyeb.ipynb\" target=\"_parent\"><img src=\"https://colab.research.google.com/assets/colab-badge.svg\" alt=\"Open In Colab\"/></a>"
      ]
    },
    {
      "cell_type": "code",
      "execution_count": 4,
      "metadata": {
        "colab": {
          "base_uri": "https://localhost:8080/"
        },
        "id": "LneK-BGh2Tb6",
        "outputId": "d8607f10-bb18-4297-86ba-2b38a40387a3"
      },
      "outputs": [
        {
          "output_type": "stream",
          "name": "stdout",
          "text": [
            "Welcome! Please choose a liquid option:\n",
            "1. Coffee\n",
            "2. Tea\n",
            "3. Hot Chocolate\n",
            "4. Juice\n",
            "5. Water\n",
            "Enter the number of your choice: 1\n",
            "Choose coffee type:\n",
            "1. Hot Coffee\n",
            "2. Cold Coffee\n",
            "Enter the number of your choice: 1\n",
            "Preparing hot coffee...\n",
            "- Adding coffee\n",
            "- Adding hot water\n",
            "Enter the amount of sugar (in grams): 12\n",
            "- Adding 12.0 grams sugar\n",
            "- Preparing for delivery\n",
            "Cost of Black Coffee: $2.5\n",
            "Please choose a payment method:\n",
            "1. UPI\n",
            "2. Debit Card\n",
            "3. Credit Card\n",
            "4. Cash\n",
            "Enter the number of your choice for payment: 1\n",
            "Payment link sent to your UPI app!\n",
            "Message sent to your phone: Your beverage is ready!\n",
            "Dispensing coffee...\n"
          ]
        }
      ],
      "source": [
        "# Function to calculate cost based on the beverage type\n",
        "def calculate_cost(beverage_type):\n",
        "    # Define cost for each beverage type (example costs)\n",
        "    cost_dict = {\n",
        "        'Black Coffee': 2.50,\n",
        "        'Tea': 1.80,\n",
        "        'Hot Chocolate': 2.00,\n",
        "        'Juice': 2.20,\n",
        "        'Water': 1.00\n",
        "    }\n",
        "    return cost_dict.get(beverage_type, 0)  # Default to 0 if beverage type not found\n",
        "\n",
        "# Function to simulate sending a message to the phone with payment link\n",
        "def send_payment_link(payment_method):\n",
        "    if payment_method == 'UPI':\n",
        "        print(\"Payment link sent to your UPI app!\")\n",
        "    elif payment_method == 'Debit Card' or payment_method == 'Credit Card':\n",
        "        print(f\"Please swipe/insert your {payment_method} to complete the payment.\")\n",
        "    elif payment_method == 'Cash':\n",
        "        print(\"Please pay the amount in cash.\")\n",
        "\n",
        "# Function to simulate sending a message to the phone\n",
        "def send_message():\n",
        "    print(\"Message sent to your phone: Your beverage is ready!\")\n",
        "\n",
        "# Assuming Main is initially ON\n",
        "main_on = True\n",
        "\n",
        "if main_on:\n",
        "    print(\"Welcome! Please choose a liquid option:\")\n",
        "    print(\"1. Coffee\")\n",
        "    print(\"2. Tea\")\n",
        "    print(\"3. Hot Chocolate\")\n",
        "    print(\"4. Juice\")\n",
        "    print(\"5. Water\")\n",
        "    user_choice = input(\"Enter the number of your choice: \")\n",
        "\n",
        "    if user_choice == '1':  # User chooses Coffee\n",
        "        print(\"Choose coffee type:\")\n",
        "        print(\"1. Hot Coffee\")\n",
        "        print(\"2. Cold Coffee\")\n",
        "        coffee_type = input(\"Enter the number of your choice: \")\n",
        "\n",
        "        if coffee_type == '1':  # User chooses Hot Coffee\n",
        "            print(\"Preparing hot coffee...\")\n",
        "            # Sequence to prepare hot coffee\n",
        "            print(\"- Adding coffee\")\n",
        "            print(\"- Adding hot water\")\n",
        "            sugar_gms = float(input(\"Enter the amount of sugar (in grams): \"))\n",
        "            print(f\"- Adding {sugar_gms} grams sugar\")\n",
        "            print(\"- Preparing for delivery\")\n",
        "\n",
        "            cost = calculate_cost('Black Coffee')\n",
        "            print(f\"Cost of Black Coffee: ${cost}\")  # Display cost\n",
        "\n",
        "            print(\"Please choose a payment method:\")\n",
        "            print(\"1. UPI\")\n",
        "            print(\"2. Debit Card\")\n",
        "            print(\"3. Credit Card\")\n",
        "            print(\"4. Cash\")\n",
        "            payment_method = input(\"Enter the number of your choice for payment: \")\n",
        "\n",
        "            if payment_method == '1':\n",
        "                send_payment_link('UPI')  # Send UPI payment link\n",
        "            else:\n",
        "                send_payment_link('Debit Card' if payment_method == '2' else\n",
        "                                  'Credit Card' if payment_method == '3' else 'Cash')\n",
        "\n",
        "            send_message()  # Send message to phone\n",
        "\n",
        "            # Dispensing process (simulated)\n",
        "            print(\"Dispensing coffee...\")\n",
        "\n",
        "        # Add logic for Cold Coffee and other beverage options similarly...\n",
        "\n",
        "    # Rest of the code remains the same for other beverage options...\n"
      ]
    }
  ]
}